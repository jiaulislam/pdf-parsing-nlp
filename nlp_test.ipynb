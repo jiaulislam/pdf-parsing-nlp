{
 "cells": [
  {
   "cell_type": "code",
   "execution_count": null,
   "metadata": {},
   "outputs": [],
   "source": [
    "import camelot\n",
    "import pandas\n",
    "%matplotlib inline\n",
    "\n",
    "\n",
    "tables = camelot.read_pdf('Womens.pdf', pages=\"1\", line_scale=33,)\n",
    "\n",
    "\n",
    "tables"
   ]
  },
  {
   "cell_type": "code",
   "execution_count": null,
   "metadata": {},
   "outputs": [],
   "source": [
    "# Default Columns\n",
    "\n",
    "default_col_names = {\n",
    "    0: 'ID',\n",
    "    1: 'AA',\n",
    "    2: 'T2T_Code',\n",
    "    3: 'Style',\n",
    "    4: 'BB',\n",
    "    5: 'Colour',\n",
    "    6: 'Pack_Size',\n",
    "    7: 'Quantities',\n",
    "    8: 'FOB_Cost',\n",
    "    9: 'RRP',\n",
    "    10: 'BOGOF',\n",
    "    11: 'Comments',\n",
    "    12: 'Dest_WH',\n",
    "    13: 'Shipment_Date'\n",
    "}\n",
    "\n",
    "\n",
    "# Generate DataFrame Obj\n",
    "df: pandas.DataFrame = pandas.concat([table.df for table in tables[1:]])\n",
    "\n",
    "# tables[1].df"
   ]
  },
  {
   "cell_type": "code",
   "execution_count": null,
   "metadata": {},
   "outputs": [],
   "source": [
    "import numpy\n",
    "\n",
    "df: pandas.DataFrame = df.rename(columns=default_col_names)\n",
    "\n",
    "\n",
    "final_df: pandas.DataFrame = df.iloc[1:]\n",
    "\n",
    "final_df = final_df.replace(to_replace=\"\", value=numpy.NaN)\n",
    "\n",
    "final_df = final_df.dropna(how=\"all\")\n",
    "\n",
    "# delete dummy columns\n",
    "final_df = final_df.drop('AA', axis=1, )\n",
    "final_df = final_df.drop('BB', axis=1, )\n",
    "\n",
    "final_df.to_html('nlp.html')"
   ]
  },
  {
   "cell_type": "code",
   "execution_count": null,
   "metadata": {},
   "outputs": [],
   "source": [
    "final_df.index"
   ]
  },
  {
   "cell_type": "code",
   "execution_count": null,
   "metadata": {
    "scrolled": true
   },
   "outputs": [],
   "source": [
    "def purify_fob_cost(current_inx: int, df: pandas.DataFrame):\n",
    "    print(df.loc[current_inx-1,'Quantities'])\n",
    "\n",
    "def purify_color(current_inx: int, df: pandas.DataFrame):\n",
    "    ...\n",
    "\n",
    "for inx, series in final_df.iterrows():\n",
    "    if series.ID is numpy.NaN:\n",
    "        purify_fob_cost(inx, final_df)\n"
   ]
  },
  {
   "cell_type": "code",
   "execution_count": null,
   "metadata": {},
   "outputs": [],
   "source": [
    "final_df.to_excel('test.xlsx')"
   ]
  }
 ],
 "metadata": {
  "kernelspec": {
   "display_name": "Python 3 (ipykernel)",
   "language": "python",
   "name": "python3"
  },
  "language_info": {
   "codemirror_mode": {
    "name": "ipython",
    "version": 3
   },
   "file_extension": ".py",
   "mimetype": "text/x-python",
   "name": "python",
   "nbconvert_exporter": "python",
   "pygments_lexer": "ipython3",
   "version": "3.8.16"
  },
  "vscode": {
   "interpreter": {
    "hash": "a735815dd9df559ce466d861762b1afe566c1a0d7623638fd4c434334754e62e"
   }
  }
 },
 "nbformat": 4,
 "nbformat_minor": 2
}
